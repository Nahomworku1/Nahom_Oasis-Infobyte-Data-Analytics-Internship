{
 "cells": [
  {
   "cell_type": "code",
   "execution_count": 3,
   "id": "f2648c63-bf17-4b69-a60d-53bf0ddce596",
   "metadata": {},
   "outputs": [
    {
     "name": "stdout",
     "output_type": "stream",
     "text": [
      "This is the 100th Etext file presented by Project Gutenberg, and\n",
      "is presented in cooperation with World Library, Inc., from their\n",
      "Library of the Future and Shakespeare CDROMS.  Project Gutenberg\n",
      "often releases Etexts that are NOT placed in the Public Domain!!\n",
      "\n",
      "Shakespeare\n",
      "\n",
      "*This Etext has certain copyright implications you should read!*\n",
      "\n",
      "<<THIS ELECTRONIC VERSION OF THE COMPLETE WORKS OF WILLIAM\n",
      "SHAKESPEARE IS COPYRIGHT 1990-1993 BY WORLD LIBRARY, INC., AND IS\n",
      "PROVIDED BY PROJECT GUTENBERG ETEXT\n",
      "Total words: 901325\n"
     ]
    }
   ],
   "source": [
    "# Import libraries\n",
    "import pandas as pd\n",
    "import matplotlib.pyplot as plt\n",
    "import seaborn as sns\n",
    "import re\n",
    "from collections import Counter\n",
    "\n",
    "# Load text data\n",
    "with open('auto_correct.txt', 'r', encoding='utf-8') as f:\n",
    "    text_data = f.read()\n",
    "\n",
    "# Preview first 500 characters\n",
    "print(text_data[:500])\n",
    "\n",
    "# Total words\n",
    "words_total = len(text_data.split())\n",
    "print(f\"Total words: {words_total}\")\n",
    "\n"
   ]
  },
  {
   "cell_type": "code",
   "execution_count": 4,
   "id": "3f6bb575-3243-493f-8e33-3fb10ff1e797",
   "metadata": {},
   "outputs": [
    {
     "name": "stdout",
     "output_type": "stream",
     "text": [
      "Total words: 899836\n"
     ]
    }
   ],
   "source": [
    "# Lowercase all text Preprocessing\n",
    "text_data = text_data.lower()\n",
    "\n",
    "# Remove unwanted characters (punctuation, numbers)\n",
    "text_data_clean = re.sub(r'[^a-z\\s]', '', text_data)\n",
    "\n",
    "# Tokenize words\n",
    "words = text_data_clean.split()\n",
    "\n",
    "# Count total words\n",
    "print(f\"Total words: {len(words)}\")\n"
   ]
  },
  {
   "cell_type": "code",
   "execution_count": 5,
   "id": "d0f83ba9-121a-430c-b22d-ec83e0059c90",
   "metadata": {},
   "outputs": [
    {
     "data": {
      "image/png": "[encoded data removed]",
      "text/plain": [
       "<Figure size 640x480 with 1 Axes>"
      ]
     },
     "metadata": {},
     "output_type": "display_data"
    }
   ],
   "source": [
    "# Count word frequencies Word Frequency Analysis\n",
    "word_counts = Counter(words)\n",
    "\n",
    "# Top 20 most common words\n",
    "most_common_words = word_counts.most_common(20)\n",
    "df_words = pd.DataFrame(most_common_words, columns=['Word', 'Frequency'])\n",
    "\n",
    "# Plot\n",
    "df_words['Hue'] = df_words['Word']  # temporary hue for Seaborn >0.14\n",
    "sns.barplot(\n",
    "    data=df_words,\n",
    "    x='Frequency',\n",
    "    y='Word',\n",
    "    hue='Hue',\n",
    "    dodge=False,\n",
    "    palette='magma'\n",
    ")\n",
    "plt.legend([], [], frameon=False)\n",
    "plt.title(\"Top 20 Most Frequent Words\")\n",
    "plt.show()\n"
   ]
  },
  {
   "cell_type": "code",
   "execution_count": 6,
   "id": "bc494d33-3e4a-43d5-9218-53548213a2b6",
   "metadata": {},
   "outputs": [
    {
     "data": {
      "text/plain": [
       "[('th', 1), ('future', 1), ('public', 1), ('complete', 1), ('world', 1)]"
      ]
     },
     "execution_count": 6,
     "metadata": {},
     "output_type": "execute_result"
    }
   ],
   "source": [
    "# Build bigrams\n",
    "bigrams = [(words[i], words[i+1]) for i in range(len(words)-1)]\n",
    "bigram_counts = Counter(bigrams)\n",
    "\n",
    "# Autocomplete function\n",
    "def autocomplete(word, top_n=5):\n",
    "    suggestions = [w2 for (w1, w2), count in bigram_counts.items() if w1 == word]\n",
    "    suggestions_counts = Counter(suggestions)\n",
    "    return suggestions_counts.most_common(top_n)\n",
    "\n",
    "# Example\n",
    "autocomplete(\"the\")\n"
   ]
  },
  {
   "cell_type": "code",
   "execution_count": 7,
   "id": "55f0fae0-0cb5-4e71-a602-f7b079241777",
   "metadata": {},
   "outputs": [
    {
     "data": {
      "text/plain": [
       "'example'"
      ]
     },
     "execution_count": 7,
     "metadata": {},
     "output_type": "execute_result"
    }
   ],
   "source": [
    "# Generate edits (Levenshtein distance 1)\n",
    "def edits1(word):\n",
    "    letters    = 'abcdefghijklmnopqrstuvwxyz'\n",
    "    splits     = [(word[:i], word[i:]) for i in range(len(word)+1)]\n",
    "    deletes    = [L + R[1:] for L, R in splits if R]\n",
    "    transposes = [L + R[1] + R[0] + R[2:] for L, R in splits if len(R)>1]\n",
    "    replaces   = [L + c + R[1:] for L, R in splits if R for c in letters]\n",
    "    inserts    = [L + c + R for L, R in splits for c in letters]\n",
    "    return set(deletes + transposes + replaces + inserts)\n",
    "\n",
    "# Autocorrect function\n",
    "def autocorrect(word):\n",
    "    candidates = edits1(word)\n",
    "    known_candidates = {w: word_counts[w] for w in candidates if w in word_counts}\n",
    "    if known_candidates:\n",
    "        return max(known_candidates, key=known_candidates.get)\n",
    "    return word\n",
    "\n",
    "# Example\n",
    "autocorrect(\"exampl\")  # returns 'example'\n"
   ]
  },
  {
   "cell_type": "code",
   "execution_count": 8,
   "id": "84e1e017-5cc8-4a70-ad35-9637edf55b39",
   "metadata": {},
   "outputs": [
    {
     "name": "stdout",
     "output_type": "stream",
     "text": [
      "exampl -> example\n",
      "recieve -> receive\n",
      "teh -> the\n",
      "speling -> spelling\n"
     ]
    }
   ],
   "source": [
    "# Sample misspelled words\n",
    "misspelled_words = [\"exampl\", \"recieve\", \"teh\", \"speling\"]\n",
    "for word in misspelled_words:\n",
    "    corrected = autocorrect(word)\n",
    "    print(f\"{word} -> {corrected}\")\n"
   ]
  },
  {
   "cell_type": "code",
   "execution_count": 9,
   "id": "7b35d393-53f8-4c6f-914b-f3857a396835",
   "metadata": {},
   "outputs": [
    {
     "data": {
      "image/png": "[encoded data removed]",
      "text/plain": [
       "<Figure size 640x480 with 1 Axes>"
      ]
     },
     "metadata": {},
     "output_type": "display_data"
    }
   ],
   "source": [
    "# Top suggestions for \"to\"\n",
    "suggestions = autocomplete(\"to\", top_n=10)\n",
    "df_suggest = pd.DataFrame(suggestions, columns=['Word', 'Count'])\n",
    "df_suggest['Hue'] = df_suggest['Word']\n",
    "\n",
    "sns.barplot(\n",
    "    data=df_suggest,\n",
    "    x='Count',\n",
    "    y='Word',\n",
    "    hue='Hue',\n",
    "    dodge=False,\n",
    "    palette='coolwarm'\n",
    ")\n",
    "plt.legend([], [], frameon=False)\n",
    "plt.title(\"Top 10 Autocomplete Suggestions for 'to'\")\n",
    "plt.show()\n"
   ]
  },
  {
   "cell_type": "code",
   "execution_count": 10,
   "id": "ea511772-6a20-4dd5-a32e-224ebf929755",
   "metadata": {},
   "outputs": [
    {
     "name": "stdout",
     "output_type": "stream",
     "text": [
      "\n",
      "📌 Key Recommendations:\n",
      "\n",
      "1. Use higher-order n-grams (trigrams or 4-grams) for more accurate autocomplete.\n",
      "2. Leverage full vocabulary from large corpora for better autocorrect coverage.\n",
      "3. Optimize edit distance algorithms for speed and efficiency.\n",
      "4. Consider machine learning models (RNN, Transformer) for predictive text.\n",
      "5. Visualize autocomplete predictions and autocorrect accuracy for user insights.\n",
      "\n",
      "\n"
     ]
    }
   ],
   "source": [
    "print(\"\"\"\n",
    "📌 Key Recommendations:\n",
    "\n",
    "1. Use higher-order n-grams (trigrams or 4-grams) for more accurate autocomplete.\n",
    "2. Leverage full vocabulary from large corpora for better autocorrect coverage.\n",
    "3. Optimize edit distance algorithms for speed and efficiency.\n",
    "4. Consider machine learning models (RNN, Transformer) for predictive text.\n",
    "5. Visualize autocomplete predictions and autocorrect accuracy for user insights.\n",
    "\n",
    "\"\"\")\n"
   ]
  },
  {
   "cell_type": "code",
   "execution_count": null,
   "id": "8c2b2d6b-424c-4c5b-a3e4-ceb9f76070ad",
   "metadata": {},
   "outputs": [],
   "source": []
  }
 ],
 "metadata": {
  "kernelspec": {
   "display_name": "Python [conda env:base] *",
   "language": "python",
   "name": "conda-base-py"
  },
  "language_info": {
   "codemirror_mode": {
    "name": "ipython",
    "version": 3
   },
   "file_extension": ".py",
   "mimetype": "text/x-python",
   "name": "python",
   "nbconvert_exporter": "python",
   "pygments_lexer": "ipython3",
   "version": "3.13.5"
  }
 },
 "nbformat": 4,
 "nbformat_minor": 5
}
