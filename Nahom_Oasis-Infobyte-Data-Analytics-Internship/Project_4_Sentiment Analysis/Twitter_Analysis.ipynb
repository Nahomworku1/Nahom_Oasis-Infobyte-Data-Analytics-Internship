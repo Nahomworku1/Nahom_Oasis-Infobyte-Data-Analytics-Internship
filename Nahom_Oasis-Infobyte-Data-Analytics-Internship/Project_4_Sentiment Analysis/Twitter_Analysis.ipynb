{
 "cells": [
  {
   "cell_type": "code",
   "execution_count": 14,
   "id": "8095046e-d8d1-4c11-9669-6db6211def8b",
   "metadata": {},
   "outputs": [
    {
     "name": "stdout",
     "output_type": "stream",
     "text": [
      "                                          clean_text  category\n",
      "0  when modi promised “minimum government maximum...      -1.0\n",
      "1  talk all the nonsense and continue all the dra...       0.0\n",
      "2  what did just say vote for modi  welcome bjp t...       1.0\n",
      "3  asking his supporters prefix chowkidar their n...       1.0\n",
      "4  answer who among these the most powerful world...       1.0\n",
      "<class 'pandas.core.frame.DataFrame'>\n",
      "RangeIndex: 162980 entries, 0 to 162979\n",
      "Data columns (total 2 columns):\n",
      " #   Column      Non-Null Count   Dtype  \n",
      "---  ------      --------------   -----  \n",
      " 0   clean_text  162976 non-null  object \n",
      " 1   category    162973 non-null  float64\n",
      "dtypes: float64(1), object(1)\n",
      "memory usage: 2.5+ MB\n",
      "None\n",
      "            category\n",
      "count  162973.000000\n",
      "mean        0.225436\n",
      "std         0.781279\n",
      "min        -1.000000\n",
      "25%         0.000000\n",
      "50%         0.000000\n",
      "75%         1.000000\n",
      "max         1.000000\n",
      "clean_text    4\n",
      "category      7\n",
      "dtype: int64\n",
      "                                          clean_text  category\n",
      "0  when modi promised “minimum government maximum...      -1.0\n",
      "1  talk all the nonsense and continue all the dra...       0.0\n",
      "2  what did just say vote for modi  welcome bjp t...       1.0\n",
      "3  asking his supporters prefix chowkidar their n...       1.0\n",
      "4  answer who among these the most powerful world...       1.0\n",
      "<class 'pandas.core.frame.DataFrame'>\n",
      "RangeIndex: 162980 entries, 0 to 162979\n",
      "Data columns (total 2 columns):\n",
      " #   Column      Non-Null Count   Dtype  \n",
      "---  ------      --------------   -----  \n",
      " 0   clean_text  162976 non-null  object \n",
      " 1   category    162973 non-null  float64\n",
      "dtypes: float64(1), object(1)\n",
      "memory usage: 2.5+ MB\n",
      "None\n",
      "            category\n",
      "count  162973.000000\n",
      "mean        0.225436\n",
      "std         0.781279\n",
      "min        -1.000000\n",
      "25%         0.000000\n",
      "50%         0.000000\n",
      "75%         1.000000\n",
      "max         1.000000\n",
      "clean_text    4\n",
      "category      7\n",
      "dtype: int64\n"
     ]
    }
   ],
   "source": [
    "import pandas as pd\n",
    "import matplotlib.pyplot as plt\n",
    "import seaborn as sns\n",
    "# Load dataset\n",
    "df = pd.read_csv(\"Twitter_Data.csv\")\n",
    "\n",
    "# Quick overview\n",
    "df.columns = df.columns.str.strip().str.replace(' ', '_')\n",
    "print(df.head())\n",
    "print(df.info())\n",
    "print(df.describe())\n",
    "print(df.isnull().sum())\n",
    "import pandas as pd\n",
    "\n",
    "# Load dataset\n",
    "df = pd.read_csv(\"Twitter_Data.csv\")\n",
    "\n",
    "# Quick overview\n",
    "df.columns = df.columns.str.strip().str.replace(' ', '_')\n",
    "print(df.head())\n",
    "print(df.info())\n",
    "print(df.describe())\n",
    "print(df.isnull().sum())\n"
   ]
  },
  {
   "cell_type": "code",
   "execution_count": 8,
   "id": "308f76e5-d7ca-4cfd-8e92-be336adede32",
   "metadata": {},
   "outputs": [
    {
     "data": {
      "text/plain": [
       "Index(['clean_text', 'category'], dtype='object')"
      ]
     },
     "execution_count": 8,
     "metadata": {},
     "output_type": "execute_result"
    }
   ],
   "source": [
    "df.columns\n",
    "\n"
   ]
  },
  {
   "cell_type": "code",
   "execution_count": 4,
   "id": "b9d9f551-0775-477c-8ca7-1741ad41c289",
   "metadata": {
    "scrolled": true
   },
   "outputs": [
    {
     "name": "stdout",
     "output_type": "stream",
     "text": [
      "Cleaned dataset shape: (162969, 2)\n"
     ]
    },
    {
     "data": {
      "text/html": [
       "<div>\n",
       "<style scoped>\n",
       "    .dataframe tbody tr th:only-of-type {\n",
       "        vertical-align: middle;\n",
       "    }\n",
       "\n",
       "    .dataframe tbody tr th {\n",
       "        vertical-align: top;\n",
       "    }\n",
       "\n",
       "    .dataframe thead th {\n",
       "        text-align: right;\n",
       "    }\n",
       "</style>\n",
       "<table border=\"1\" class=\"dataframe\">\n",
       "  <thead>\n",
       "    <tr style=\"text-align: right;\">\n",
       "      <th></th>\n",
       "      <th>clean_text</th>\n",
       "      <th>category</th>\n",
       "    </tr>\n",
       "  </thead>\n",
       "  <tbody>\n",
       "    <tr>\n",
       "      <th>0</th>\n",
       "      <td>when modi promised “minimum government maximum...</td>\n",
       "      <td>-1</td>\n",
       "    </tr>\n",
       "    <tr>\n",
       "      <th>1</th>\n",
       "      <td>talk all the nonsense and continue all the dra...</td>\n",
       "      <td>0</td>\n",
       "    </tr>\n",
       "    <tr>\n",
       "      <th>2</th>\n",
       "      <td>what did just say vote for modi  welcome bjp t...</td>\n",
       "      <td>1</td>\n",
       "    </tr>\n",
       "    <tr>\n",
       "      <th>3</th>\n",
       "      <td>asking his supporters prefix chowkidar their n...</td>\n",
       "      <td>1</td>\n",
       "    </tr>\n",
       "    <tr>\n",
       "      <th>4</th>\n",
       "      <td>answer who among these the most powerful world...</td>\n",
       "      <td>1</td>\n",
       "    </tr>\n",
       "  </tbody>\n",
       "</table>\n",
       "</div>"
      ],
      "text/plain": [
       "                                          clean_text  category\n",
       "0  when modi promised “minimum government maximum...        -1\n",
       "1  talk all the nonsense and continue all the dra...         0\n",
       "2  what did just say vote for modi  welcome bjp t...         1\n",
       "3  asking his supporters prefix chowkidar their n...         1\n",
       "4  answer who among these the most powerful world...         1"
      ]
     },
     "metadata": {},
     "output_type": "display_data"
    },
    {
     "name": "stdout",
     "output_type": "stream",
     "text": [
      "\n",
      "Missing values after cleaning:\n"
     ]
    },
    {
     "data": {
      "text/plain": [
       "clean_text    0\n",
       "category      0\n",
       "dtype: int64"
      ]
     },
     "metadata": {},
     "output_type": "display_data"
    }
   ],
   "source": [
    "# ==============================\n",
    "# 2️⃣ Data Cleaning\n",
    "# ==============================\n",
    "\n",
    "# Drop rows with missing values\n",
    "df = df.dropna().reset_index(drop=True)\n",
    "\n",
    "# Convert category to integer (optional for modeling)\n",
    "df['category'] = df['category'].astype(int)\n",
    "\n",
    "# Quick check after cleaning\n",
    "print(\"Cleaned dataset shape:\", df.shape)\n",
    "display(df.head())\n",
    "print(\"\\nMissing values after cleaning:\")\n",
    "display(df.isnull().sum())\n"
   ]
  },
  {
   "cell_type": "code",
   "execution_count": 9,
   "id": "19e6f9ed-ebc6-4b39-9ea1-b4eb351411f8",
   "metadata": {},
   "outputs": [
    {
     "name": "stdout",
     "output_type": "stream",
     "text": [
      "                                          clean_text  category\n",
      "0  when modi promised “minimum government maximum...        -1\n",
      "1  talk all the nonsense and continue all the dra...         0\n",
      "2  what did just say vote for modi  welcome bjp t...         1\n",
      "3  asking his supporters prefix chowkidar their n...         1\n",
      "4  answer who among these the most powerful world...         1\n",
      "<class 'pandas.core.frame.DataFrame'>\n",
      "RangeIndex: 162969 entries, 0 to 162968\n",
      "Data columns (total 2 columns):\n",
      " #   Column      Non-Null Count   Dtype \n",
      "---  ------      --------------   ----- \n",
      " 0   clean_text  162969 non-null  object\n",
      " 1   category    162969 non-null  int64 \n",
      "dtypes: int64(1), object(1)\n",
      "memory usage: 2.5+ MB\n",
      "None\n",
      "            category\n",
      "count  162969.000000\n",
      "mean        0.225442\n",
      "std         0.781279\n",
      "min        -1.000000\n",
      "25%         0.000000\n",
      "50%         0.000000\n",
      "75%         1.000000\n",
      "max         1.000000\n",
      "clean_text    0\n",
      "category      0\n",
      "dtype: int64\n"
     ]
    }
   ],
   "source": [
    "print(df.head())\n",
    "print(df.info())\n",
    "print(df.describe())\n",
    "print(df.isnull().sum())\n"
   ]
  },
  {
   "cell_type": "code",
   "execution_count": 15,
   "id": "0f73310d-8cb3-43a8-9026-3d696c574928",
   "metadata": {},
   "outputs": [
    {
     "data": {
      "image/png": "[encoded data removed]",
      "text/plain": [
       "<Figure size 600x400 with 1 Axes>"
      ]
     },
     "metadata": {},
     "output_type": "display_data"
    }
   ],
   "source": [
    "\n",
    "\n",
    "plt.figure(figsize=(6,4))\n",
    "\n",
    "# Map x to hue to allow palette without warning\n",
    "sns.countplot(data=df, x='category', hue='category', palette='Set2', dodge=False)\n",
    "plt.legend([],[], frameon=False)  # remove extra legend\n",
    "plt.title(\"Tweet Sentiment Distribution\")\n",
    "plt.xlabel(\"Sentiment (-1=Negative, 0=Neutral, 1=Positive)\")\n",
    "plt.ylabel(\"Count\")\n",
    "plt.show()\n"
   ]
  },
  {
   "cell_type": "code",
   "execution_count": 16,
   "id": "c7830e2d-1278-42ba-a1a2-705a3bf6086e",
   "metadata": {},
   "outputs": [
    {
     "name": "stdout",
     "output_type": "stream",
     "text": [
      "category\n",
      " 1.0    72250\n",
      " 0.0    55213\n",
      "-1.0    35510\n",
      "Name: count, dtype: int64\n",
      "category\n",
      " 1.0    44.332497\n",
      " 0.0    33.878618\n",
      "-1.0    21.788885\n",
      "Name: proportion, dtype: float64\n"
     ]
    }
   ],
   "source": [
    "# Sentiment counts\n",
    "sentiment_counts = df['category'].value_counts()\n",
    "print(sentiment_counts)\n",
    "\n",
    "# Percentages\n",
    "sentiment_percent = df['category'].value_counts(normalize=True) * 100\n",
    "print(sentiment_percent)\n"
   ]
  },
  {
   "cell_type": "code",
   "execution_count": 21,
   "id": "37ab3d8a-e954-4985-91bb-516bf7af85bb",
   "metadata": {},
   "outputs": [
    {
     "data": {
      "image/png": "[encoded data removed]",
      "text/plain": [
       "<Figure size 600x400 with 1 Axes>"
      ]
     },
     "metadata": {},
     "output_type": "display_data"
    }
   ],
   "source": [
    "\n",
    "\n",
    "# Counts and proportions\n",
    "sentiment_counts = df['category'].value_counts().sort_index()\n",
    "sentiment_props = df['category'].value_counts(normalize=True).sort_index() * 100\n",
    "\n",
    "# Colors for each bar\n",
    "colors = ['#66c2a5', '#fc8d62', '#8da0cb']  # negative, neutral, positive\n",
    "\n",
    "plt.figure(figsize=(6,4))\n",
    "\n",
    "# Plot bars individually with colors\n",
    "for i, (cat, count) in enumerate(sentiment_counts.items()):\n",
    "    plt.bar(i, count, color=colors[i])\n",
    "    plt.text(i, count + 1000, f\"{sentiment_props.values[i]:.1f}%\", ha='center')\n",
    "\n",
    "plt.xticks(range(len(sentiment_counts)), sentiment_counts.index)\n",
    "plt.xlabel(\"Sentiment (-1=Negative, 0=Neutral, 1=Positive)\")\n",
    "plt.ylabel(\"Number of Tweets\")\n",
    "plt.title(\"Tweet Sentiment Distribution\")\n",
    "plt.show()\n"
   ]
  },
  {
   "cell_type": "code",
   "execution_count": 27,
   "id": "03605fe0-7f59-48b8-9824-8fab002afe15",
   "metadata": {},
   "outputs": [
    {
     "name": "stdout",
     "output_type": "stream",
     "text": [
      " Recommendations based on sentiment analysis:\n",
      "\n",
      "1. Positive Tweets (1):\n",
      "- These users are satisfied or supportive.\n",
      "- Engage them further with personalized offers or campaigns.\n",
      "\n",
      "2. Neutral Tweets 0:\n",
      "- These users are indifferent or undecided.\n",
      "- Provide informative content or promotions to influence them positively.\n",
      "\n",
      "3. Negative Tweets (-1):\n",
      "- These users are dissatisfied or critical.\n",
      "- Address their complaints quickly and improve customer experience.\n"
     ]
    }
   ],
   "source": [
    "# ==============================\n",
    "# 6️, Recommendations\n",
    "# ==============================\n",
    "\n",
    "print(\" Recommendations based on sentiment analysis:\\n\")\n",
    "\n",
    "# 1. Positive sentiment\n",
    "print(\"1. Positive Tweets (1):\")\n",
    "print(\"- These users are satisfied or supportive.\")\n",
    "print(\"- Engage them further with personalized offers or campaigns.\\n\")\n",
    "\n",
    "# 2. Neutral sentiment\n",
    "print(\"2. Neutral Tweets 0:\")\n",
    "print(\"- These users are indifferent or undecided.\")\n",
    "print(\"- Provide informative content or promotions to influence them positively.\\n\")\n",
    "\n",
    "# 3. Negative sentiment (-1)\n",
    "print(\"3. Negative Tweets (-1):\")\n",
    "print(\"- These users are dissatisfied or critical.\")\n",
    "print(\"- Address their complaints quickly and improve customer experience.\")\n"
   ]
  },
  {
   "cell_type": "code",
   "execution_count": null,
   "id": "b05ea425-2957-4d36-ad8e-2ec8b3787f0b",
   "metadata": {},
   "outputs": [],
   "source": []
  }
 ],
 "metadata": {
  "kernelspec": {
   "display_name": "Python [conda env:base] *",
   "language": "python",
   "name": "conda-base-py"
  },
  "language_info": {
   "codemirror_mode": {
    "name": "ipython",
    "version": 3
   },
   "file_extension": ".py",
   "mimetype": "text/x-python",
   "name": "python",
   "nbconvert_exporter": "python",
   "pygments_lexer": "ipython3",
   "version": "3.13.5"
  }
 },
 "nbformat": 4,
 "nbformat_minor": 5
}
